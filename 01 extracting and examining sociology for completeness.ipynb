{
 "cells": [
  {
   "cell_type": "code",
   "execution_count": null,
   "id": "4a320894",
   "metadata": {},
   "outputs": [],
   "source": [
    "import pandas as pd\n",
    "df2 = pd.read_parquet( Path(home, 'datasets/s4/MAG/Papers.parquet', engine='fastparquet') )\n",
    "df2.head()"
   ]
  },
  {
   "cell_type": "code",
   "execution_count": 3,
   "id": "3038928a",
   "metadata": {},
   "outputs": [],
   "source": [
    "from common_imports import *"
   ]
  },
  {
   "cell_type": "code",
   "execution_count": 4,
   "id": "496913c3",
   "metadata": {},
   "outputs": [
    {
     "name": "stdout",
     "output_type": "stream",
     "text": [
      "['584', '19418', 'gozde ozdikmenlidemir', 'Gözde Özdikmenli-Demir', '79946792', '5', '5', '11', '2016-06-24\\n']\n",
      "['859', '19820', 'gy tolmar', 'Gy. Tolmár', '', '3', '3', '2', '2016-06-24\\n']\n",
      "['978', '17856', 'ximena faundez', 'Ximena Faúndez', '149744451', '20', '20', '61', '2016-06-24\\n']\n",
      "['1139', '19600', 'jennifer putzi', 'Jennifer Putzi', '', '4', '4', '7', '2016-06-24\\n']\n",
      "['1476', '21132', '勲矢 手島', '勲矢 手島', '', '1', '1', '0', '2016-06-24\\n']\n",
      "['1611', '20439', '純子 貝原', '純子 貝原', '', '2', '2', '0', '2016-06-24\\n']\n",
      "['1799', '18376', 'hossein gholaman', 'Hossein Gholaman', '62318514', '2', '2', '248', '2016-06-24\\n']\n",
      "['1968', '19522', 'maria isabel lorca martin de villodres', 'María Isabel Lorca Martín de Villodres', '82767444', '5', '5', '0', '2016-06-24\\n']\n",
      "['2255', '19132', 'bin liuy', 'Bin Liuy', '99065089', '3', '3', '25', '2016-06-24\\n']\n",
      "['2722', '19310', 'susan macicak', 'Susan Macicak', '', '2', '2', '18', '2016-06-24\\n']\n",
      "['2741', '19522', '良介 立野', '良介 立野', '', '5', '5', '0', '2016-06-24\\n']\n"
     ]
    }
   ],
   "source": [
    "with Path(home,'datasets/s4/MAG/Authors.txt').open() as inf:\n",
    "    for l in genlim(10)(inf):\n",
    "        print(l.split(\"\\t\"))"
   ]
  },
  {
   "cell_type": "markdown",
   "id": "4effbb7a",
   "metadata": {},
   "source": [
    "# top level fields"
   ]
  },
  {
   "cell_type": "code",
   "execution_count": 6,
   "id": "67ea967f",
   "metadata": {},
   "outputs": [
    {
     "name": "stdout",
     "output_type": "stream",
     "text": [
      "Medicine (29,994,817 papers). ID=71924100\n",
      "Materials science (29,648,694 papers). ID=192562407\n",
      "Computer science (25,150,420 papers). ID=41008148\n",
      "Chemistry (19,431,836 papers). ID=185592680\n",
      "Engineering (14,587,094 papers). ID=127413603\n",
      "Biology (14,369,768 papers). ID=86803240\n",
      "Physics (10,851,783 papers). ID=121332964\n",
      "Art (8,849,799 papers). ID=142362112\n",
      "Psychology (8,674,914 papers). ID=15744967\n",
      "Political science (8,516,435 papers). ID=17744445\n",
      "Mathematics (6,870,568 papers). ID=33923547\n",
      "Geology (6,600,805 papers). ID=127313418\n",
      "Environmental science (6,160,852 papers). ID=39432304\n",
      "Geography (5,653,780 papers). ID=205649164\n",
      "Business (5,599,468 papers). ID=144133560\n",
      "Sociology (4,688,396 papers). ID=144024400\n",
      "Philosophy (4,263,552 papers). ID=138885662\n",
      "History (3,456,630 papers). ID=95457728\n",
      "Economics (3,178,352 papers). ID=162324750\n"
     ]
    }
   ],
   "source": [
    "# top level fields\n",
    "fields = []\n",
    "with Path(home,'datasets/s4/MAG/FieldsOfStudy.txt').open() as inf:\n",
    "    i = 0\n",
    "    for l in inf:\n",
    "        l = l.split(\"\\t\")\n",
    "        if l[5] != '0':\n",
    "            continue\n",
    "        \n",
    "        fields.append(l)\n",
    "        i += 1\n",
    "        \n",
    "        if i > 20 and False:\n",
    "            break\n",
    "            \n",
    "print(\"\\n\".join(\n",
    "    f\"{x[3]} ({int(x[6]):0,} papers). ID={x[0]}\"\n",
    "    for x in sorted(fields, key=lambda x:-int(x[6])))\n",
    ")"
   ]
  },
  {
   "cell_type": "markdown",
   "id": "456a88c2",
   "metadata": {},
   "source": [
    "# find the soc papers"
   ]
  },
  {
   "cell_type": "code",
   "execution_count": null,
   "id": "2991e433",
   "metadata": {},
   "outputs": [],
   "source": [
    "soc_papers = []\n",
    "with Path(home,'datasets/s4/MAG/PaperFieldsOfStudy.txt').open() as inf:\n",
    "    for i,l in enumerate(inf):\n",
    "        if (i+1)%1e7 == 0:\n",
    "            print(i+1, 'documents processed...')\n",
    "        l = l.split('\\t')\n",
    "        if l[1] == '144024400':\n",
    "            soc_papers.append((l[0],l[2]))"
   ]
  },
  {
   "cell_type": "code",
   "execution_count": 12,
   "id": "04f783dc",
   "metadata": {},
   "outputs": [
    {
     "data": {
      "text/plain": [
       "4688396"
      ]
     },
     "execution_count": 12,
     "metadata": {},
     "output_type": "execute_result"
    }
   ],
   "source": [
    "len(soc_papers)"
   ]
  },
  {
   "cell_type": "code",
   "execution_count": 10,
   "id": "696cef52",
   "metadata": {},
   "outputs": [],
   "source": [
    "soc_papers = set(int(x[0]) for x in soc_papers)"
   ]
  },
  {
   "cell_type": "code",
   "execution_count": 16,
   "id": "29a981ea",
   "metadata": {},
   "outputs": [],
   "source": [
    "import pickle\n",
    "with open('soc_papers.pickle', 'wb') as outf:\n",
    "    pickle.dump(soc_papers, outf)"
   ]
  },
  {
   "cell_type": "code",
   "execution_count": 8,
   "id": "6327ed56",
   "metadata": {},
   "outputs": [],
   "source": [
    "import pickle\n",
    "with open('soc_papers.pickle', 'rb') as inf:\n",
    "    soc_papers = pickle.load(inf)"
   ]
  },
  {
   "cell_type": "code",
   "execution_count": 12,
   "id": "9c36b565",
   "metadata": {},
   "outputs": [
    {
     "ename": "NameError",
     "evalue": "name 'defaultdict' is not defined",
     "output_type": "error",
     "traceback": [
      "\u001b[0;31m---------------------------------------------------------------------------\u001b[0m",
      "\u001b[0;31mNameError\u001b[0m                                 Traceback (most recent call last)",
      "\u001b[0;32m<ipython-input-12-acedbd683960>\u001b[0m in \u001b[0;36m<module>\u001b[0;34m\u001b[0m\n\u001b[0;32m----> 1\u001b[0;31m \u001b[0msubf\u001b[0m \u001b[0;34m=\u001b[0m \u001b[0mdefaultdict\u001b[0m\u001b[0;34m(\u001b[0m\u001b[0mint\u001b[0m\u001b[0;34m)\u001b[0m\u001b[0;34m\u001b[0m\u001b[0;34m\u001b[0m\u001b[0m\n\u001b[0m\u001b[1;32m      2\u001b[0m \u001b[0;32mwith\u001b[0m \u001b[0mopen\u001b[0m\u001b[0;34m(\u001b[0m\u001b[0;34m'datasets/s4/MAG/PaperFieldsOfStudy.txt'\u001b[0m\u001b[0;34m)\u001b[0m \u001b[0;32mas\u001b[0m \u001b[0minf\u001b[0m\u001b[0;34m:\u001b[0m\u001b[0;34m\u001b[0m\u001b[0;34m\u001b[0m\u001b[0m\n\u001b[1;32m      3\u001b[0m     \u001b[0;32mfor\u001b[0m \u001b[0ml\u001b[0m \u001b[0;32min\u001b[0m \u001b[0minf\u001b[0m\u001b[0;34m:\u001b[0m\u001b[0;34m\u001b[0m\u001b[0;34m\u001b[0m\u001b[0m\n\u001b[1;32m      4\u001b[0m         \u001b[0;32mbreak\u001b[0m\u001b[0;34m\u001b[0m\u001b[0;34m\u001b[0m\u001b[0m\n\u001b[1;32m      5\u001b[0m         \u001b[0ml\u001b[0m \u001b[0;34m=\u001b[0m \u001b[0ml\u001b[0m\u001b[0;34m.\u001b[0m\u001b[0msplit\u001b[0m\u001b[0;34m(\u001b[0m\u001b[0;34m\"\\t\"\u001b[0m\u001b[0;34m)\u001b[0m\u001b[0;34m\u001b[0m\u001b[0;34m\u001b[0m\u001b[0m\n",
      "\u001b[0;31mNameError\u001b[0m: name 'defaultdict' is not defined"
     ]
    }
   ],
   "source": [
    "subf = defaultdict(int)\n",
    "with open('datasets/s4/MAG/PaperFieldsOfStudy.txt') as inf:\n",
    "    for l in inf:\n",
    "        break\n",
    "        l = l.split(\"\\t\")\n",
    "        if l[0] not in soc_papers:\n",
    "            continue\n",
    "        \n",
    "        subf[l[1]] += 1"
   ]
  },
  {
   "cell_type": "code",
   "execution_count": null,
   "id": "00bfa366",
   "metadata": {},
   "outputs": [],
   "source": [
    "# subfields of soc\n",
    "from collections import defaultdict, Counter"
   ]
  },
  {
   "cell_type": "code",
   "execution_count": null,
   "id": "adcd30e6",
   "metadata": {},
   "outputs": [],
   "source": [
    "list(soc_papers)[:5]"
   ]
  },
  {
   "cell_type": "code",
   "execution_count": null,
   "id": "1d2df56a",
   "metadata": {},
   "outputs": [],
   "source": [
    "# lol... only kept top level (0) fields...\n",
    "# this was unhelpful...\n",
    "for X,c in Counter(subf).most_common(50):\n",
    "    f = [x for x in fields if x[0] == X]\n",
    "    if not len(f):\n",
    "        continue\n",
    "    f = f[0]\n",
    "    print(f[3], f\"({f[1]})\")"
   ]
  },
  {
   "cell_type": "code",
   "execution_count": null,
   "id": "23dda393",
   "metadata": {},
   "outputs": [],
   "source": [
    "with open('datasets/s4/MAG/PaperReferences.txt') as inf:\n",
    "    for l in genlim(10)(inf):\n",
    "        print(l.split(\"\\t\"))"
   ]
  },
  {
   "cell_type": "code",
   "execution_count": null,
   "id": "bd99e9f1",
   "metadata": {},
   "outputs": [],
   "source": [
    "list(soc_papers)[0]"
   ]
  },
  {
   "cell_type": "markdown",
   "id": "7daf57e0",
   "metadata": {},
   "source": [
    "# citations"
   ]
  },
  {
   "cell_type": "code",
   "execution_count": null,
   "id": "b5c3e7d0",
   "metadata": {},
   "outputs": [],
   "source": [
    "break"
   ]
  },
  {
   "cell_type": "code",
   "execution_count": null,
   "id": "8540dd7f",
   "metadata": {},
   "outputs": [],
   "source": [
    "# let's look for all the citations, to get a good idea of what we have here...\n",
    "clinks = []\n",
    "\n",
    "c_i = 0\n",
    "def dump():\n",
    "    global c_i, clinks\n",
    "    print(f'Dumping {c_i}...')\n",
    "    with open(f'citations.{c_i}.pickle', 'wb') as outf:\n",
    "        pickle.dump(clinks, outf)\n",
    "    c_i += 1\n",
    "    clinks = []\n",
    "\n",
    "with open('datasets/s4/MAG/PaperReferences.txt') as inf:\n",
    "    for i,l in enumerate(inf):\n",
    "        if (i+1)%10000000 == 0:\n",
    "            print(f'Citation link {i+1:,}. Collected {len(clinks):,}.')\n",
    "        \n",
    "        l = l[:-1] # strip the trailing \\n from the line\n",
    "        l = l.split('\\t') # tab delimited\n",
    "        l = list(map(int,l)) # map to integers. saving on memory this way hopefully\n",
    "        \n",
    "        if l[0] in soc_papers or l[1] in soc_papers: # to or from any of these papers...\n",
    "            clinks.append((l[0],l[1]))\n",
    "            \n",
    "        if len(clinks) >= 1e6:\n",
    "            dump()\n",
    "            \n",
    "dump()"
   ]
  },
  {
   "cell_type": "code",
   "execution_count": null,
   "id": "b1a88963",
   "metadata": {},
   "outputs": [],
   "source": []
  }
 ],
 "metadata": {
  "kernelspec": {
   "display_name": "Python 3",
   "language": "python",
   "name": "python3"
  },
  "language_info": {
   "codemirror_mode": {
    "name": "ipython",
    "version": 3
   },
   "file_extension": ".py",
   "mimetype": "text/x-python",
   "name": "python",
   "nbconvert_exporter": "python",
   "pygments_lexer": "ipython3",
   "version": "3.8.8"
  },
  "latex_envs": {
   "LaTeX_envs_menu_present": true,
   "autoclose": false,
   "autocomplete": true,
   "bibliofile": "biblio.bib",
   "cite_by": "apalike",
   "current_citInitial": 1,
   "eqLabelWithNumbers": true,
   "eqNumInitial": 1,
   "hotkeys": {
    "equation": "Ctrl-E",
    "itemize": "Ctrl-I"
   },
   "labels_anchors": false,
   "latex_user_defs": false,
   "report_style_numbering": false,
   "user_envs_cfg": false
  },
  "toc": {
   "base_numbering": 1,
   "nav_menu": {},
   "number_sections": true,
   "sideBar": true,
   "skip_h1_title": false,
   "title_cell": "Table of Contents",
   "title_sidebar": "Contents",
   "toc_cell": false,
   "toc_position": {},
   "toc_section_display": true,
   "toc_window_display": false
  }
 },
 "nbformat": 4,
 "nbformat_minor": 5
}
