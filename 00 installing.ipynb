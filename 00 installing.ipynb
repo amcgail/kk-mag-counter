{
 "cells": [
  {
   "cell_type": "code",
   "execution_count": 15,
   "id": "db814288",
   "metadata": {},
   "outputs": [
    {
     "data": {
      "text/plain": [
       "'/home/jovyan/knowknow'"
      ]
     },
     "execution_count": 15,
     "metadata": {},
     "output_type": "execute_result"
    }
   ],
   "source": [
    "%pwd"
   ]
  },
  {
   "cell_type": "code",
   "execution_count": 14,
   "id": "3b5b4864",
   "metadata": {},
   "outputs": [],
   "source": [
    "from knowknow import *"
   ]
  },
  {
   "cell_type": "code",
   "execution_count": 18,
   "id": "779976b3",
   "metadata": {},
   "outputs": [],
   "source": [
    "env.setGLOB('dataverse_api_key', '291abf80-633f-45d8-bb8e-9d30d93bda95')"
   ]
  },
  {
   "cell_type": "code",
   "execution_count": 16,
   "id": "70d68bd6",
   "metadata": {},
   "outputs": [
    {
     "ename": "KeyError",
     "evalue": "'dataverse_api_key'",
     "output_type": "error",
     "traceback": [
      "\u001b[0;31m---------------------------------------------------------------------------\u001b[0m",
      "\u001b[0;31mKeyError\u001b[0m                                  Traceback (most recent call last)",
      "\u001b[0;32m<ipython-input-16-f3c72cab504e>\u001b[0m in \u001b[0;36m<module>\u001b[0;34m\u001b[0m\n\u001b[0;32m----> 1\u001b[0;31m \u001b[0menv\u001b[0m\u001b[0;34m.\u001b[0m\u001b[0mGLOBS\u001b[0m\u001b[0;34m[\u001b[0m\u001b[0;34m'dataverse_api_key'\u001b[0m\u001b[0;34m]\u001b[0m\u001b[0;34m\u001b[0m\u001b[0;34m\u001b[0m\u001b[0m\n\u001b[0m",
      "\u001b[0;31mKeyError\u001b[0m: 'dataverse_api_key'"
     ]
    }
   ],
   "source": [
    "upload(\n",
    "    api_key = env.GLOBS['dataverse_api_key'],\n",
    "    dataset_name = 'sociology-mag-internal',\n",
    "    dataset_description = \"\"\"All the \"\"\",\n",
    "    dataverse_name = 'kk-citation-counts',\n",
    "    dataverse_server = 'https://dataverse.harvard.edu'\n",
    ")"
   ]
  },
  {
   "cell_type": "code",
   "execution_count": 1,
   "id": "f69f36d8",
   "metadata": {},
   "outputs": [
    {
     "name": "stdout",
     "output_type": "stream",
     "text": [
      "\u001b[33mWARNING: Value for scheme.headers does not match. Please report this to <https://github.com/pypa/pip/issues/9617>\n",
      "distutils: /opt/conda/include/python3.8/UNKNOWN\n",
      "sysconfig: /opt/conda/include/python3.8\u001b[0m\n",
      "\u001b[33mWARNING: Additional context:\n",
      "user = False\n",
      "home = None\n",
      "root = None\n",
      "prefix = None\u001b[0m\n",
      "Collecting knowknow-amcgail\n",
      "  Downloading knowknow_amcgail-0.3.1-py3-none-any.whl (51 kB)\n",
      "\u001b[K     |████████████████████████████████| 51 kB 3.0 MB/s eta 0:00:011\n",
      "\u001b[?25hRequirement already satisfied: scikit-learn>=0.23.0 in /opt/conda/lib/python3.8/site-packages (from knowknow-amcgail) (0.24.1)\n",
      "Requirement already satisfied: ipython>=7.14.0 in /opt/conda/lib/python3.8/site-packages (from knowknow-amcgail) (7.22.0)\n",
      "Requirement already satisfied: numpy>=1.18.4 in /opt/conda/lib/python3.8/site-packages (from knowknow-amcgail) (1.19.5)\n",
      "Requirement already satisfied: six>=1.14.0 in /opt/conda/lib/python3.8/site-packages (from knowknow-amcgail) (1.15.0)\n",
      "Requirement already satisfied: scipy>=1.4.1 in /opt/conda/lib/python3.8/site-packages (from knowknow-amcgail) (1.6.2)\n",
      "Requirement already satisfied: statsmodels>=0.11.1 in /opt/conda/lib/python3.8/site-packages (from knowknow-amcgail) (0.12.2)\n",
      "Requirement already satisfied: PyYAML>=5.3.1 in /opt/conda/lib/python3.8/site-packages (from knowknow-amcgail) (5.4.1)\n",
      "Requirement already satisfied: networkx>=2.3 in /opt/conda/lib/python3.8/site-packages (from knowknow-amcgail) (2.5)\n",
      "Collecting tabulate>=0.8.7\n",
      "  Downloading tabulate-0.8.9-py3-none-any.whl (25 kB)\n",
      "Collecting editdistance>=0.5.3\n",
      "  Downloading editdistance-0.6.0-cp38-cp38-manylinux2010_x86_64.whl (286 kB)\n",
      "\u001b[K     |████████████████████████████████| 286 kB 14.6 MB/s eta 0:00:01\n",
      "\u001b[?25hRequirement already satisfied: lxml>=4.4.1 in /opt/conda/lib/python3.8/site-packages (from knowknow-amcgail) (4.6.3)\n",
      "Requirement already satisfied: seaborn>=0.10.1 in /opt/conda/lib/python3.8/site-packages (from knowknow-amcgail) (0.11.1)\n",
      "Collecting nltk>=3.5\n",
      "  Downloading nltk-3.6.7-py3-none-any.whl (1.5 MB)\n",
      "\u001b[K     |████████████████████████████████| 1.5 MB 32.0 MB/s eta 0:00:01\n",
      "\u001b[?25hCollecting colour>=0.1.5\n",
      "  Downloading colour-0.1.5-py2.py3-none-any.whl (23 kB)\n",
      "Collecting string-grouper>=0.1.0\n",
      "  Downloading string_grouper-0.6.1-py3-none-any.whl (29 kB)\n",
      "Requirement already satisfied: cycler>=0.10.0 in /opt/conda/lib/python3.8/site-packages (from knowknow-amcgail) (0.10.0)\n",
      "Requirement already satisfied: pandas>=1.0.3 in /opt/conda/lib/python3.8/site-packages (from knowknow-amcgail) (1.2.4)\n",
      "Requirement already satisfied: matplotlib>=3.2.1 in /opt/conda/lib/python3.8/site-packages (from knowknow-amcgail) (3.3.4)\n",
      "Collecting nameparser>=1.0.6\n",
      "  Downloading nameparser-1.1.1-py2.py3-none-any.whl (24 kB)\n",
      "Collecting jupyter>=1.0.0\n",
      "  Downloading jupyter-1.0.0-py2.py3-none-any.whl (2.7 kB)\n",
      "Requirement already satisfied: jupyterlab>=2.1.2 in /opt/conda/lib/python3.8/site-packages (from knowknow-amcgail) (3.0.12)\n",
      "Requirement already satisfied: notebook in /opt/conda/lib/python3.8/site-packages (from jupyter>=1.0.0->knowknow-amcgail) (6.2.0)\n",
      "Requirement already satisfied: ipywidgets in /opt/conda/lib/python3.8/site-packages (from jupyter>=1.0.0->knowknow-amcgail) (7.6.3)\n",
      "Collecting jupyter-console\n",
      "  Downloading jupyter_console-6.4.0-py3-none-any.whl (22 kB)\n",
      "Requirement already satisfied: nbconvert in /opt/conda/lib/python3.8/site-packages (from jupyter>=1.0.0->knowknow-amcgail) (5.6.1)\n",
      "Collecting qtconsole\n",
      "  Downloading qtconsole-5.2.2-py3-none-any.whl (120 kB)\n",
      "\u001b[K     |████████████████████████████████| 120 kB 37.2 MB/s eta 0:00:01\n",
      "\u001b[?25hRequirement already satisfied: ipykernel in /opt/conda/lib/python3.8/site-packages (from jupyter>=1.0.0->knowknow-amcgail) (5.5.3)\n",
      "Requirement already satisfied: jupyter-packaging~=0.7.3 in /opt/conda/lib/python3.8/site-packages (from jupyterlab>=2.1.2->knowknow-amcgail) (0.7.12)\n",
      "Requirement already satisfied: jupyter-server~=1.4 in /opt/conda/lib/python3.8/site-packages (from jupyterlab>=2.1.2->knowknow-amcgail) (1.6.1)\n",
      "Requirement already satisfied: nbclassic~=0.2 in /opt/conda/lib/python3.8/site-packages (from jupyterlab>=2.1.2->knowknow-amcgail) (0.2.7)\n",
      "Requirement already satisfied: jinja2>=2.10 in /opt/conda/lib/python3.8/site-packages (from jupyterlab>=2.1.2->knowknow-amcgail) (2.11.3)\n",
      "Requirement already satisfied: tornado>=6.1.0 in /opt/conda/lib/python3.8/site-packages (from jupyterlab>=2.1.2->knowknow-amcgail) (6.1)\n",
      "Requirement already satisfied: jupyterlab-server~=2.3 in /opt/conda/lib/python3.8/site-packages (from jupyterlab>=2.1.2->knowknow-amcgail) (2.4.0)\n",
      "Requirement already satisfied: packaging in /opt/conda/lib/python3.8/site-packages (from jupyterlab>=2.1.2->knowknow-amcgail) (20.9)\n",
      "Requirement already satisfied: jupyter-core in /opt/conda/lib/python3.8/site-packages (from jupyterlab>=2.1.2->knowknow-amcgail) (4.7.1)\n",
      "Requirement already satisfied: MarkupSafe>=0.23 in /opt/conda/lib/python3.8/site-packages (from jinja2>=2.10->jupyterlab>=2.1.2->knowknow-amcgail) (1.1.1)\n",
      "Requirement already satisfied: Send2Trash in /opt/conda/lib/python3.8/site-packages (from jupyter-server~=1.4->jupyterlab>=2.1.2->knowknow-amcgail) (1.5.0)\n",
      "Requirement already satisfied: jupyter-client>=6.1.1 in /opt/conda/lib/python3.8/site-packages (from jupyter-server~=1.4->jupyterlab>=2.1.2->knowknow-amcgail) (6.1.12)\n",
      "Requirement already satisfied: terminado>=0.8.3 in /opt/conda/lib/python3.8/site-packages (from jupyter-server~=1.4->jupyterlab>=2.1.2->knowknow-amcgail) (0.9.4)\n",
      "Requirement already satisfied: nbformat in /opt/conda/lib/python3.8/site-packages (from jupyter-server~=1.4->jupyterlab>=2.1.2->knowknow-amcgail) (5.1.3)\n",
      "Requirement already satisfied: ipython-genutils in /opt/conda/lib/python3.8/site-packages (from jupyter-server~=1.4->jupyterlab>=2.1.2->knowknow-amcgail) (0.2.0)\n",
      "Requirement already satisfied: argon2-cffi in /opt/conda/lib/python3.8/site-packages (from jupyter-server~=1.4->jupyterlab>=2.1.2->knowknow-amcgail) (20.1.0)\n",
      "Requirement already satisfied: pyzmq>=17 in /opt/conda/lib/python3.8/site-packages (from jupyter-server~=1.4->jupyterlab>=2.1.2->knowknow-amcgail) (22.0.3)\n",
      "Requirement already satisfied: prometheus-client in /opt/conda/lib/python3.8/site-packages (from jupyter-server~=1.4->jupyterlab>=2.1.2->knowknow-amcgail) (0.10.1)\n",
      "Requirement already satisfied: anyio>=2.0.2 in /opt/conda/lib/python3.8/site-packages (from jupyter-server~=1.4->jupyterlab>=2.1.2->knowknow-amcgail) (2.2.0)\n",
      "Requirement already satisfied: traitlets>=4.2.1 in /opt/conda/lib/python3.8/site-packages (from jupyter-server~=1.4->jupyterlab>=2.1.2->knowknow-amcgail) (5.0.5)\n",
      "Requirement already satisfied: sniffio>=1.1 in /opt/conda/lib/python3.8/site-packages (from anyio>=2.0.2->jupyter-server~=1.4->jupyterlab>=2.1.2->knowknow-amcgail) (1.2.0)\n",
      "Requirement already satisfied: idna>=2.8 in /opt/conda/lib/python3.8/site-packages (from anyio>=2.0.2->jupyter-server~=1.4->jupyterlab>=2.1.2->knowknow-amcgail) (2.10)\n",
      "Requirement already satisfied: python-dateutil>=2.1 in /opt/conda/lib/python3.8/site-packages (from jupyter-client>=6.1.1->jupyter-server~=1.4->jupyterlab>=2.1.2->knowknow-amcgail) (2.8.1)\n",
      "Requirement already satisfied: babel in /opt/conda/lib/python3.8/site-packages (from jupyterlab-server~=2.3->jupyterlab>=2.1.2->knowknow-amcgail) (2.9.0)\n",
      "Requirement already satisfied: jsonschema>=3.0.1 in /opt/conda/lib/python3.8/site-packages (from jupyterlab-server~=2.3->jupyterlab>=2.1.2->knowknow-amcgail) (3.2.0)\n",
      "Requirement already satisfied: json5 in /opt/conda/lib/python3.8/site-packages (from jupyterlab-server~=2.3->jupyterlab>=2.1.2->knowknow-amcgail) (0.9.5)\n",
      "Requirement already satisfied: requests in /opt/conda/lib/python3.8/site-packages (from jupyterlab-server~=2.3->jupyterlab>=2.1.2->knowknow-amcgail) (2.25.1)\n",
      "Requirement already satisfied: setuptools in /opt/conda/lib/python3.8/site-packages (from jsonschema>=3.0.1->jupyterlab-server~=2.3->jupyterlab>=2.1.2->knowknow-amcgail) (49.6.0.post20210108)\n",
      "Requirement already satisfied: pyrsistent>=0.14.0 in /opt/conda/lib/python3.8/site-packages (from jsonschema>=3.0.1->jupyterlab-server~=2.3->jupyterlab>=2.1.2->knowknow-amcgail) (0.17.3)\n",
      "Requirement already satisfied: attrs>=17.4.0 in /opt/conda/lib/python3.8/site-packages (from jsonschema>=3.0.1->jupyterlab-server~=2.3->jupyterlab>=2.1.2->knowknow-amcgail) (20.3.0)\n",
      "Requirement already satisfied: kiwisolver>=1.0.1 in /opt/conda/lib/python3.8/site-packages (from matplotlib>=3.2.1->knowknow-amcgail) (1.3.1)\n",
      "Requirement already satisfied: pillow>=6.2.0 in /opt/conda/lib/python3.8/site-packages (from matplotlib>=3.2.1->knowknow-amcgail) (8.1.2)\n",
      "Requirement already satisfied: pyparsing!=2.0.4,!=2.1.2,!=2.1.6,>=2.0.3 in /opt/conda/lib/python3.8/site-packages (from matplotlib>=3.2.1->knowknow-amcgail) (2.4.7)\n",
      "Requirement already satisfied: decorator>=4.3.0 in /opt/conda/lib/python3.8/site-packages (from networkx>=2.3->knowknow-amcgail) (5.0.7)\n",
      "Requirement already satisfied: tqdm in /opt/conda/lib/python3.8/site-packages (from nltk>=3.5->knowknow-amcgail) (4.60.0)\n",
      "Collecting regex>=2021.8.3\n",
      "  Downloading regex-2022.1.18-cp38-cp38-manylinux_2_17_x86_64.manylinux2014_x86_64.whl (764 kB)\n",
      "\u001b[K     |████████████████████████████████| 764 kB 29.4 MB/s eta 0:00:01\n",
      "\u001b[?25hRequirement already satisfied: click in /opt/conda/lib/python3.8/site-packages (from nltk>=3.5->knowknow-amcgail) (7.1.2)\n",
      "Requirement already satisfied: joblib in /opt/conda/lib/python3.8/site-packages (from nltk>=3.5->knowknow-amcgail) (1.0.1)\n",
      "Requirement already satisfied: pytz>=2017.3 in /opt/conda/lib/python3.8/site-packages (from pandas>=1.0.3->knowknow-amcgail) (2021.1)\n",
      "Requirement already satisfied: threadpoolctl>=2.0.0 in /opt/conda/lib/python3.8/site-packages (from scikit-learn>=0.23.0->knowknow-amcgail) (2.1.0)\n",
      "Requirement already satisfied: patsy>=0.5 in /opt/conda/lib/python3.8/site-packages (from statsmodels>=0.11.1->knowknow-amcgail) (0.5.1)\n",
      "Collecting sparse-dot-topn-for-blocks>=0.3.1\n",
      "  Downloading sparse_dot_topn_for_blocks-0.3.1.post3.tar.gz (17 kB)\n",
      "  Installing build dependencies ... \u001b[?25ldone\n",
      "\u001b[?25h  Getting requirements to build wheel ... \u001b[?25ldone\n",
      "\u001b[?25h  Installing backend dependencies ... \u001b[?25ldone\n",
      "\u001b[?25h    Preparing wheel metadata ... \u001b[?25ldone\n",
      "\u001b[?25hCollecting topn>=0.0.7\n",
      "  Downloading topn-0.0.7.tar.gz (14 kB)\n",
      "Requirement already satisfied: cython>=0.29.15 in /opt/conda/lib/python3.8/site-packages (from sparse-dot-topn-for-blocks>=0.3.1->string-grouper>=0.1.0->knowknow-amcgail) (0.29.23)\n",
      "Requirement already satisfied: ptyprocess in /opt/conda/lib/python3.8/site-packages (from terminado>=0.8.3->jupyter-server~=1.4->jupyterlab>=2.1.2->knowknow-amcgail) (0.7.0)\n",
      "Requirement already satisfied: cffi>=1.0.0 in /opt/conda/lib/python3.8/site-packages (from argon2-cffi->jupyter-server~=1.4->jupyterlab>=2.1.2->knowknow-amcgail) (1.14.5)\n",
      "Requirement already satisfied: pycparser in /opt/conda/lib/python3.8/site-packages (from cffi>=1.0.0->argon2-cffi->jupyter-server~=1.4->jupyterlab>=2.1.2->knowknow-amcgail) (2.20)\n",
      "Requirement already satisfied: pexpect>4.3 in /opt/conda/lib/python3.8/site-packages (from ipython>=7.14.0->knowknow-amcgail) (4.8.0)\n",
      "Requirement already satisfied: pickleshare in /opt/conda/lib/python3.8/site-packages (from ipython>=7.14.0->knowknow-amcgail) (0.7.5)\n",
      "Requirement already satisfied: pygments in /opt/conda/lib/python3.8/site-packages (from ipython>=7.14.0->knowknow-amcgail) (2.8.1)\n",
      "Requirement already satisfied: prompt-toolkit!=3.0.0,!=3.0.1,<3.1.0,>=2.0.0 in /opt/conda/lib/python3.8/site-packages (from ipython>=7.14.0->knowknow-amcgail) (3.0.18)\n",
      "Requirement already satisfied: jedi>=0.16 in /opt/conda/lib/python3.8/site-packages (from ipython>=7.14.0->knowknow-amcgail) (0.18.0)\n",
      "Requirement already satisfied: backcall in /opt/conda/lib/python3.8/site-packages (from ipython>=7.14.0->knowknow-amcgail) (0.2.0)\n",
      "Requirement already satisfied: parso<0.9.0,>=0.8.0 in /opt/conda/lib/python3.8/site-packages (from jedi>=0.16->ipython>=7.14.0->knowknow-amcgail) (0.8.2)\n",
      "Requirement already satisfied: wcwidth in /opt/conda/lib/python3.8/site-packages (from prompt-toolkit!=3.0.0,!=3.0.1,<3.1.0,>=2.0.0->ipython>=7.14.0->knowknow-amcgail) (0.2.5)\n",
      "Requirement already satisfied: jupyterlab-widgets>=1.0.0 in /opt/conda/lib/python3.8/site-packages (from ipywidgets->jupyter>=1.0.0->knowknow-amcgail) (1.0.0)\n",
      "Requirement already satisfied: widgetsnbextension~=3.5.0 in /opt/conda/lib/python3.8/site-packages (from ipywidgets->jupyter>=1.0.0->knowknow-amcgail) (3.5.1)\n",
      "Requirement already satisfied: bleach in /opt/conda/lib/python3.8/site-packages (from nbconvert->jupyter>=1.0.0->knowknow-amcgail) (3.3.0)\n",
      "Requirement already satisfied: mistune<2,>=0.8.1 in /opt/conda/lib/python3.8/site-packages (from nbconvert->jupyter>=1.0.0->knowknow-amcgail) (0.8.4)\n",
      "Requirement already satisfied: entrypoints>=0.2.2 in /opt/conda/lib/python3.8/site-packages (from nbconvert->jupyter>=1.0.0->knowknow-amcgail) (0.3)\n",
      "Requirement already satisfied: pandocfilters>=1.4.1 in /opt/conda/lib/python3.8/site-packages (from nbconvert->jupyter>=1.0.0->knowknow-amcgail) (1.4.2)\n",
      "Requirement already satisfied: testpath in /opt/conda/lib/python3.8/site-packages (from nbconvert->jupyter>=1.0.0->knowknow-amcgail) (0.4.4)\n",
      "Requirement already satisfied: defusedxml in /opt/conda/lib/python3.8/site-packages (from nbconvert->jupyter>=1.0.0->knowknow-amcgail) (0.7.1)\n",
      "Requirement already satisfied: webencodings in /opt/conda/lib/python3.8/site-packages (from bleach->nbconvert->jupyter>=1.0.0->knowknow-amcgail) (0.5.1)\n",
      "Collecting qtpy\n",
      "  Downloading QtPy-2.0.1-py3-none-any.whl (65 kB)\n",
      "\u001b[K     |████████████████████████████████| 65 kB 3.0 MB/s  eta 0:00:01\n",
      "\u001b[?25hRequirement already satisfied: certifi>=2017.4.17 in /opt/conda/lib/python3.8/site-packages (from requests->jupyterlab-server~=2.3->jupyterlab>=2.1.2->knowknow-amcgail) (2021.5.30)\n",
      "Requirement already satisfied: urllib3<1.27,>=1.21.1 in /opt/conda/lib/python3.8/site-packages (from requests->jupyterlab-server~=2.3->jupyterlab>=2.1.2->knowknow-amcgail) (1.26.4)\n",
      "Requirement already satisfied: chardet<5,>=3.0.2 in /opt/conda/lib/python3.8/site-packages (from requests->jupyterlab-server~=2.3->jupyterlab>=2.1.2->knowknow-amcgail) (4.0.0)\n",
      "Building wheels for collected packages: sparse-dot-topn-for-blocks, topn\n",
      "  Building wheel for sparse-dot-topn-for-blocks (PEP 517) ... \u001b[?25ldone\n",
      "\u001b[?25h  Created wheel for sparse-dot-topn-for-blocks: filename=sparse_dot_topn_for_blocks-0.3.1.post3-cp38-cp38-linux_x86_64.whl size=1894467 sha256=93ceeb0029355e121737f8c5bf945f34cbb179e59d8ff6da65cc87d4b830c7e6\n",
      "  Stored in directory: /home/jovyan/.cache/pip/wheels/cd/51/59/3080d540e081469d719ddb93de0807954405de95d9ebc6e4a4\n",
      "  Building wheel for topn (setup.py) ... \u001b[?25ldone\n",
      "\u001b[?25h  Created wheel for topn: filename=topn-0.0.7-cp38-cp38-linux_x86_64.whl size=1263300 sha256=633970fa2424b21483aad77104484df5b6f1c853977654cf424fdf548c144829\n",
      "  Stored in directory: /home/jovyan/.cache/pip/wheels/ea/35/1e/d7aef4c512a30092befa223fb6467e2a5c24765ad5f85cfd60\n",
      "Successfully built sparse-dot-topn-for-blocks topn\n",
      "Installing collected packages: qtpy, topn, sparse-dot-topn-for-blocks, regex, qtconsole, jupyter-console, tabulate, string-grouper, nltk, nameparser, jupyter, editdistance, colour, knowknow-amcgail\n",
      "\u001b[33mWARNING: Value for scheme.headers does not match. Please report this to <https://github.com/pypa/pip/issues/9617>\n",
      "distutils: /opt/conda/include/python3.8/UNKNOWN\n",
      "sysconfig: /opt/conda/include/python3.8\u001b[0m\n",
      "\u001b[33mWARNING: Additional context:\n",
      "user = False\n",
      "home = None\n",
      "root = None\n",
      "prefix = None\u001b[0m\n",
      "Successfully installed colour-0.1.5 editdistance-0.6.0 jupyter-1.0.0 jupyter-console-6.4.0 knowknow-amcgail-0.3.1 nameparser-1.1.1 nltk-3.6.7 qtconsole-5.2.2 qtpy-2.0.1 regex-2022.1.18 sparse-dot-topn-for-blocks-0.3.1.post3 string-grouper-0.6.1 tabulate-0.8.9 topn-0.0.7\n",
      "Note: you may need to restart the kernel to use updated packages.\n"
     ]
    }
   ],
   "source": [
    "%pip install knowknow-amcgail"
   ]
  },
  {
   "cell_type": "code",
   "execution_count": 3,
   "id": "e488a134",
   "metadata": {},
   "outputs": [
    {
     "name": "stdout",
     "output_type": "stream",
     "text": [
      "Cloning into 'academic-age-distributions'...\n",
      "remote: Enumerating objects: 33, done.\u001b[K\n",
      "remote: Counting objects: 100% (33/33), done.\u001b[K\n",
      "remote: Compressing objects: 100% (26/26), done.\u001b[K\n",
      "remote: Total 33 (delta 5), reused 33 (delta 5), pack-reused 0\u001b[K\n",
      "Unpacking objects: 100% (33/33), done.\n"
     ]
    }
   ],
   "source": [
    "!git clone https://github.com/amcgail/academic-age-distributions"
   ]
  },
  {
   "cell_type": "code",
   "execution_count": 10,
   "id": "b7dcc924",
   "metadata": {},
   "outputs": [
    {
     "name": "stdout",
     "output_type": "stream",
     "text": [
      "/home/jovyan/knowknow\n",
      "From https://github.com/amcgail/knowknow\n",
      " * branch            master     -> FETCH_HEAD\n",
      "Already up to date.\n"
     ]
    }
   ],
   "source": [
    "%cd /home/jovyan/knowknow\n",
    "!git pull origin master"
   ]
  },
  {
   "cell_type": "code",
   "execution_count": 13,
   "id": "86273ff7",
   "metadata": {},
   "outputs": [],
   "source": [
    "!mv kk-mag-counter .."
   ]
  },
  {
   "cell_type": "code",
   "execution_count": 11,
   "id": "d1cc68b4",
   "metadata": {},
   "outputs": [
    {
     "name": "stdout",
     "output_type": "stream",
     "text": [
      "Cloning into 'kk-mag-counter'...\n",
      "remote: Enumerating objects: 4, done.\u001b[K\n",
      "remote: Counting objects: 100% (4/4), done.\u001b[K\n",
      "remote: Compressing objects: 100% (4/4), done.\u001b[K\n",
      "remote: Total 4 (delta 0), reused 0 (delta 0), pack-reused 0\u001b[K\n",
      "Unpacking objects: 100% (4/4), done.\n"
     ]
    }
   ],
   "source": [
    "!git clone https://github.com/amcgail/kk-mag-counter"
   ]
  },
  {
   "cell_type": "code",
   "execution_count": 8,
   "id": "f1b1c9e7",
   "metadata": {},
   "outputs": [
    {
     "name": "stdout",
     "output_type": "stream",
     "text": [
      "\u001b[33mWARNING: Value for scheme.headers does not match. Please report this to <https://github.com/pypa/pip/issues/9617>\n",
      "distutils: /opt/conda/include/python3.8/UNKNOWN\n",
      "sysconfig: /opt/conda/include/python3.8\u001b[0m\n",
      "\u001b[33mWARNING: Additional context:\n",
      "user = False\n",
      "home = None\n",
      "root = None\n",
      "prefix = None\u001b[0m\n",
      "Collecting gitpython\n",
      "  Downloading GitPython-3.1.26-py3-none-any.whl (180 kB)\n",
      "\u001b[K     |████████████████████████████████| 180 kB 6.8 MB/s eta 0:00:01\n",
      "\u001b[?25hCollecting gitdb<5,>=4.0.1\n",
      "  Downloading gitdb-4.0.9-py3-none-any.whl (63 kB)\n",
      "\u001b[K     |████████████████████████████████| 63 kB 1.4 MB/s  eta 0:00:01\n",
      "\u001b[?25hCollecting smmap<6,>=3.0.1\n",
      "  Downloading smmap-5.0.0-py3-none-any.whl (24 kB)\n",
      "Installing collected packages: smmap, gitdb, gitpython\n",
      "\u001b[33mWARNING: Value for scheme.headers does not match. Please report this to <https://github.com/pypa/pip/issues/9617>\n",
      "distutils: /opt/conda/include/python3.8/UNKNOWN\n",
      "sysconfig: /opt/conda/include/python3.8\u001b[0m\n",
      "\u001b[33mWARNING: Additional context:\n",
      "user = False\n",
      "home = None\n",
      "root = None\n",
      "prefix = None\u001b[0m\n",
      "Successfully installed gitdb-4.0.9 gitpython-3.1.26 smmap-5.0.0\n",
      "Note: you may need to restart the kernel to use updated packages.\n"
     ]
    }
   ],
   "source": [
    "%pip install gitpython"
   ]
  }
 ],
 "metadata": {
  "kernelspec": {
   "display_name": "Python 3",
   "language": "python",
   "name": "python3"
  },
  "language_info": {
   "codemirror_mode": {
    "name": "ipython",
    "version": 3
   },
   "file_extension": ".py",
   "mimetype": "text/x-python",
   "name": "python",
   "nbconvert_exporter": "python",
   "pygments_lexer": "ipython3",
   "version": "3.8.8"
  },
  "latex_envs": {
   "LaTeX_envs_menu_present": true,
   "autoclose": false,
   "autocomplete": true,
   "bibliofile": "biblio.bib",
   "cite_by": "apalike",
   "current_citInitial": 1,
   "eqLabelWithNumbers": true,
   "eqNumInitial": 1,
   "hotkeys": {
    "equation": "Ctrl-E",
    "itemize": "Ctrl-I"
   },
   "labels_anchors": false,
   "latex_user_defs": false,
   "report_style_numbering": false,
   "user_envs_cfg": false
  },
  "toc": {
   "base_numbering": 1,
   "nav_menu": {},
   "number_sections": true,
   "sideBar": true,
   "skip_h1_title": false,
   "title_cell": "Table of Contents",
   "title_sidebar": "Contents",
   "toc_cell": false,
   "toc_position": {},
   "toc_section_display": true,
   "toc_window_display": false
  }
 },
 "nbformat": 4,
 "nbformat_minor": 5
}
