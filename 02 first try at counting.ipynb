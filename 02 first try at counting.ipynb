{
 "cells": [
  {
   "cell_type": "markdown",
   "id": "ea9d2682",
   "metadata": {},
   "source": [
    "# steps to counting over all of MAG as represented here...\n",
    "\n",
    "+ identify subset to handle\n",
    "+ gather publication years of papers\n",
    "+ gather paper -> author dictionary\n",
    "+ loop over citations, and do some counting! // just use paper IDs for everything\n",
    "+ save a dictionary which maps from the IDs to something meaningful, for later lookup (Title, Year, Authors) {how big is this dictionary?}"
   ]
  },
  {
   "cell_type": "code",
   "execution_count": 1,
   "id": "b9779cdf",
   "metadata": {},
   "outputs": [],
   "source": [
    "import sys\n",
    "sys.path.append('/home/jovyan/knowknow')\n",
    "from knowknow import *"
   ]
  },
  {
   "cell_type": "code",
   "execution_count": 3,
   "id": "42d0f742",
   "metadata": {},
   "outputs": [],
   "source": [
    "class counter:\n",
    "\n",
    "    def __init__(\n",
    "            self,\n",
    "            output_database, name_blacklist=[],\n",
    "            RUN_EVERYTHING=True,\n",
    "            groups=None, group_reps=None,\n",
    "            citations_filter=None, journals_filter=None, debug=False,\n",
    "            trimCounters=False, wos_type='csv'\n",
    "    ):\n",
    "\n",
    "        self.name_blacklist = name_blacklist\n",
    "        self.debug = debug\n",
    "        self.output_database = output_database\n",
    "        self.groups = groups\n",
    "        self.group_reps = group_reps\n",
    "\n",
    "        self.wos_type = wos_type\n",
    "\n",
    "        self.RUN_EVERYTHING = RUN_EVERYTHING\n",
    "        self.citations_filter = citations_filter\n",
    "        self.journals_filter = journals_filter\n",
    "        self.trimCounters = trimCounters\n",
    "\n",
    "        # Instantiating counters\n",
    "        self.ind = defaultdict(lambda: defaultdict(int))\n",
    "        self.track_doc = defaultdict(lambda: defaultdict(set))\n",
    "        self.doc = defaultdict(lambda: defaultdict(int))\n",
    "\n",
    "    def cnt(self, term, space, doc):\n",
    "        if \".\".join(sorted(space.split(\".\"))) != space:\n",
    "            raise Exception(space, \"should be sorted...\")\n",
    "\n",
    "        if type(term) != tuple:\n",
    "            term = tuple([term])\n",
    "\n",
    "        # it's a set, yo\n",
    "        self.track_doc[space][term].add(doc)\n",
    "        # update cnt_doc\n",
    "        self.doc[space][term] = len(self.track_doc[space][term])\n",
    "        # update ind count\n",
    "        self.ind[space][term] += 1\n",
    "\n",
    "    def save_counters(self):\n",
    "        db = Dataset(self.output_database)\n",
    "        db.clear_all()\n",
    "\n",
    "        db.save_variable('_attributes', {})\n",
    "\n",
    "        for k, count in self.doc.items():\n",
    "            varname = \"doc ___ %s\" % k\n",
    "            db.save_variable(varname, dict(count))\n",
    "\n",
    "        for k, count in self.ind.items():\n",
    "            varname = \"ind ___ %s\" % k\n",
    "            db.save_variable(varname, dict(count))"
   ]
  },
  {
   "cell_type": "markdown",
   "id": "089266bd",
   "metadata": {},
   "source": [
    "# step 0... reload the sociology papers identified"
   ]
  },
  {
   "cell_type": "code",
   "execution_count": 10,
   "id": "56f1d429",
   "metadata": {},
   "outputs": [],
   "source": [
    "import pickle\n",
    "with open('/home/jovyan/soc_papers.pickle', 'rb') as inf:\n",
    "    socpapers = pickle.load(inf)"
   ]
  },
  {
   "cell_type": "markdown",
   "id": "3ba8180d",
   "metadata": {},
   "source": [
    "# step 1... go get pub years"
   ]
  },
  {
   "cell_type": "code",
   "execution_count": 15,
   "id": "8b23248b",
   "metadata": {},
   "outputs": [],
   "source": [
    "from os.path import expanduser\n",
    "home = expanduser(\"~\")"
   ]
  },
  {
   "cell_type": "code",
   "execution_count": 14,
   "id": "f565a893",
   "metadata": {},
   "outputs": [
    {
     "data": {
      "text/plain": [
       "PosixPath('/home/jovyan/kk-mag-counter/~')"
      ]
     },
     "execution_count": 14,
     "metadata": {},
     "output_type": "execute_result"
    }
   ],
   "source": [
    "Path('~').absolute()"
   ]
  },
  {
   "cell_type": "code",
   "execution_count": 17,
   "id": "0254db7d",
   "metadata": {},
   "outputs": [],
   "source": [
    "def genlim(limit):\n",
    "    def limiter(gen):\n",
    "        for i,item in enumerate(gen):\n",
    "            if i > limit:\n",
    "                break\n",
    "            yield item\n",
    "    return limiter"
   ]
  },
  {
   "cell_type": "code",
   "execution_count": 22,
   "id": "5b2e489c",
   "metadata": {},
   "outputs": [],
   "source": [
    "socpapers = set(int(x[0]) for x in socpapers)"
   ]
  },
  {
   "cell_type": "code",
   "execution_count": 24,
   "id": "37903fbe",
   "metadata": {},
   "outputs": [],
   "source": [
    "class categorical:\n",
    "    def __init__(self):\n",
    "        self.items = []\n",
    "    def __getitem__(self, x):\n",
    "        if type(x) == int:\n",
    "            return self.items[x]\n",
    "        \n",
    "        if x in self.items:\n",
    "            return self.items.index(x)\n",
    "        \n",
    "        self.items.append(x)\n",
    "        return len(self.items) - 1"
   ]
  },
  {
   "cell_type": "code",
   "execution_count": null,
   "id": "0642fa11",
   "metadata": {},
   "outputs": [],
   "source": [
    "# realizing I need info for EVERYTHING\n",
    "# because I was considering all the cited, of sociologists.\n",
    "# thinking of sociologists as the actors...\n",
    "# my current dataset isn't going to be comparable..."
   ]
  },
  {
   "cell_type": "code",
   "execution_count": 58,
   "id": "4fc82d41",
   "metadata": {},
   "outputs": [
    {
     "name": "stdout",
     "output_type": "stream",
     "text": [
      "Processed 10000000 docs. Got 185964 papers' info\n",
      "Processed 20000000 docs. Got 371425 papers' info\n",
      "Processed 30000000 docs. Got 558122 papers' info\n",
      "Processed 40000000 docs. Got 743571 papers' info\n",
      "Processed 50000000 docs. Got 929273 papers' info\n",
      "Processed 60000000 docs. Got 1115522 papers' info\n",
      "Processed 70000000 docs. Got 1301673 papers' info\n",
      "Processed 80000000 docs. Got 1488031 papers' info\n",
      "Processed 90000000 docs. Got 1673854 papers' info\n",
      "Processed 100000000 docs. Got 1859456 papers' info\n",
      "Processed 110000000 docs. Got 2044936 papers' info\n",
      "Processed 120000000 docs. Got 2232703 papers' info\n",
      "Processed 130000000 docs. Got 2419141 papers' info\n",
      "Processed 140000000 docs. Got 2605041 papers' info\n",
      "Processed 150000000 docs. Got 2790972 papers' info\n",
      "Processed 160000000 docs. Got 2976828 papers' info\n",
      "Processed 170000000 docs. Got 3162713 papers' info\n",
      "Processed 180000000 docs. Got 3348646 papers' info\n",
      "Processed 190000000 docs. Got 3533465 papers' info\n",
      "Processed 200000000 docs. Got 3719265 papers' info\n",
      "Processed 210000000 docs. Got 3905573 papers' info\n",
      "Processed 220000000 docs. Got 4091301 papers' info\n",
      "Processed 230000000 docs. Got 4276392 papers' info\n",
      "Processed 240000000 docs. Got 4463586 papers' info\n",
      "Processed 250000000 docs. Got 4649322 papers' info\n"
     ]
    }
   ],
   "source": [
    "infos = {}\n",
    "typs = categorical()\n",
    "journals = categorical()\n",
    "\n",
    "with Path(home,'datasets/s4/MAG/Papers.txt').open() as inf:\n",
    "    for i,l in enumerate(inf):\n",
    "        l = l.split('\\t')\n",
    "        if (i+1) % 1e7 == 0: # there are something like 100M papers!, i.e. 1e8\n",
    "            print('Processed', f\"{(i+1)//1e6:,}M\", 'docs. Got', f\"{len(infos):,}\", 'papers\\' info')\n",
    "            \n",
    "        my_id = int(l[0])\n",
    "        \n",
    "        if my_id not in socpapers:\n",
    "            continue\n",
    "        \n",
    "        if l[7] == '': # saw this for some dataset... idk why. very rare\n",
    "            continue\n",
    "        year = int(l[7])\n",
    "        typ = typs[ l[3] ]\n",
    "        journal = journals[ l[11] ]\n",
    "        \n",
    "        infos[my_id] = [typ, year, journal]"
   ]
  },
  {
   "cell_type": "code",
   "execution_count": 61,
   "id": "68b7b544",
   "metadata": {},
   "outputs": [],
   "source": [
    "# get the journal names...\n",
    "jnames = {}\n",
    "\n",
    "with Path(home,'datasets/s4/MAG/Journals.txt').open() as inf:\n",
    "    for i,l in enumerate(inf):\n",
    "        l = l.split('\\t')\n",
    "        \n",
    "        ji = int(l[0])\n",
    "        jnames[ji] = l[3]"
   ]
  },
  {
   "cell_type": "code",
   "execution_count": 36,
   "id": "3227b5b9",
   "metadata": {},
   "outputs": [
    {
     "data": {
      "text/plain": [
       "['Patent',\n",
       " '',\n",
       " 'Journal',\n",
       " 'Repository',\n",
       " 'Book',\n",
       " 'Conference',\n",
       " 'BookChapter',\n",
       " 'Thesis',\n",
       " 'Dataset']"
      ]
     },
     "execution_count": 36,
     "metadata": {},
     "output_type": "execute_result"
    }
   ],
   "source": [
    "typs.items"
   ]
  },
  {
   "cell_type": "code",
   "execution_count": 38,
   "id": "cf456a0b",
   "metadata": {},
   "outputs": [
    {
     "data": {
      "text/plain": [
       "2"
      ]
     },
     "execution_count": 38,
     "metadata": {},
     "output_type": "execute_result"
    }
   ],
   "source": [
    "typs['Journal']"
   ]
  },
  {
   "cell_type": "code",
   "execution_count": 39,
   "id": "3bbdb42a",
   "metadata": {},
   "outputs": [],
   "source": [
    "# get rid of everything except Journal articles...\n",
    "# hopefully this is effective\n",
    "\n",
    "socpapers_filt = set()\n",
    "for ii, (typ, year) in infos.items():\n",
    "    if typ == typs['Journal']:\n",
    "        socpapers_filt.add(ii)"
   ]
  },
  {
   "cell_type": "code",
   "execution_count": 40,
   "id": "cc2a01c1",
   "metadata": {},
   "outputs": [
    {
     "data": {
      "text/plain": [
       "(2222638, 4688396)"
      ]
     },
     "execution_count": 40,
     "metadata": {},
     "output_type": "execute_result"
    }
   ],
   "source": [
    "len(socpapers_filt), len(socpapers)"
   ]
  },
  {
   "cell_type": "code",
   "execution_count": 43,
   "id": "ff8d9cf7",
   "metadata": {},
   "outputs": [],
   "source": [
    "authors = defaultdict(set)\n",
    "fauthors = {}\n",
    "\n",
    "with Path(home,'datasets/s4/MAG/PaperAuthorAffiliations.txt').open() as inf:\n",
    "    for i,l in enumerate(inf):\n",
    "        if (i+1)%1e7 == 0:\n",
    "            print(f'Affiliation link {i+1:,}. Collected authors for {len(authors):,} out of {len(socpapers_filt):,}.')\n",
    "            \n",
    "        l = l.split('\\t')\n",
    "        \n",
    "        pi = int(l[0])\n",
    "        ai = int(l[1])\n",
    "        \n",
    "        seq = int(l[3])\n",
    "        \n",
    "        if pi not in socpapers_filt:\n",
    "            continue\n",
    "        \n",
    "        authors[pi].add(ai)\n",
    "        if seq == 0:\n",
    "            fauthors[pi] = ai"
   ]
  },
  {
   "cell_type": "code",
   "execution_count": 47,
   "id": "13dc803d",
   "metadata": {},
   "outputs": [
    {
     "data": {
      "text/plain": [
       "['3129192538', '3127365677', '', '1', 'Kerry Jones', '\\n']"
      ]
     },
     "execution_count": 47,
     "metadata": {},
     "output_type": "execute_result"
    }
   ],
   "source": [
    "l"
   ]
  },
  {
   "cell_type": "code",
   "execution_count": 46,
   "id": "088a7585",
   "metadata": {},
   "outputs": [
    {
     "data": {
      "text/plain": [
       "(array([1.688969e+06, 3.309370e+05, 1.179740e+05, 4.515000e+04,\n",
       "        0.000000e+00, 1.841300e+04, 9.294000e+03, 4.410000e+03,\n",
       "        2.613000e+03, 1.434000e+03]),\n",
       " array([1. , 1.8, 2.6, 3.4, 4.2, 5. , 5.8, 6.6, 7.4, 8.2, 9. ]),\n",
       " <BarContainer object of 10 artists>)"
      ]
     },
     "execution_count": 46,
     "metadata": {},
     "output_type": "execute_result"
    },
    {
     "data": {
      "image/png": "[encoded data removed]",
      "text/plain": [
       "<Figure size 432x288 with 1 Axes>"
      ]
     },
     "metadata": {},
     "output_type": "display_data"
    }
   ],
   "source": [
    "plt.hist( [len(v) for k,v in authors.items() if len(v) < 10] )"
   ]
  },
  {
   "cell_type": "code",
   "execution_count": 50,
   "id": "3fd1055d",
   "metadata": {},
   "outputs": [
    {
     "data": {
      "text/plain": [
       "2222638"
      ]
     },
     "execution_count": 50,
     "metadata": {},
     "output_type": "execute_result"
    }
   ],
   "source": [
    "len(authors)"
   ]
  },
  {
   "cell_type": "code",
   "execution_count": 48,
   "id": "a916d760",
   "metadata": {},
   "outputs": [],
   "source": [
    "with open('authors.pickle', 'wb') as outf:\n",
    "    pickle.dump(authors, outf)"
   ]
  },
  {
   "cell_type": "code",
   "execution_count": 62,
   "id": "6ff536a0",
   "metadata": {},
   "outputs": [
    {
     "data": {
      "text/plain": [
       "4688383"
      ]
     },
     "execution_count": 62,
     "metadata": {},
     "output_type": "execute_result"
    }
   ],
   "source": [
    "len(infos)"
   ]
  },
  {
   "cell_type": "code",
   "execution_count": 60,
   "id": "2f5d9c04",
   "metadata": {},
   "outputs": [],
   "source": [
    "with open('infos.pickle', 'wb') as outf:\n",
    "    pickle.dump( (infos, typs, journals), outf)"
   ]
  },
  {
   "cell_type": "code",
   "execution_count": 63,
   "id": "0396131b",
   "metadata": {},
   "outputs": [
    {
     "ename": "NameError",
     "evalue": "name 'fauthors' is not defined",
     "output_type": "error",
     "traceback": [
      "\u001b[0;31m---------------------------------------------------------------------------\u001b[0m",
      "\u001b[0;31mNameError\u001b[0m                                 Traceback (most recent call last)",
      "\u001b[0;32m<ipython-input-63-e16bf4b2caa0>\u001b[0m in \u001b[0;36m<module>\u001b[0;34m\u001b[0m\n\u001b[0;32m----> 1\u001b[0;31m \u001b[0mlen\u001b[0m\u001b[0;34m(\u001b[0m\u001b[0mfauthors\u001b[0m\u001b[0;34m)\u001b[0m\u001b[0;34m\u001b[0m\u001b[0;34m\u001b[0m\u001b[0m\n\u001b[0m",
      "\u001b[0;31mNameError\u001b[0m: name 'fauthors' is not defined"
     ]
    }
   ],
   "source": [
    "len(fauthors)"
   ]
  },
  {
   "cell_type": "code",
   "execution_count": null,
   "id": "49c3c8f1",
   "metadata": {},
   "outputs": [],
   "source": [
    "with open('fauthors.pickle', 'wb') as outf:\n",
    "    pickle.dump( fauthors, outf)"
   ]
  },
  {
   "cell_type": "markdown",
   "id": "e1af7972",
   "metadata": {},
   "source": [
    "# first counting for all these works..."
   ]
  },
  {
   "cell_type": "code",
   "execution_count": 2,
   "id": "45329e86",
   "metadata": {},
   "outputs": [
    {
     "name": "stdout",
     "output_type": "stream",
     "text": [
      "Data file not found. Looking for entry in Harvard Dataverse...\n",
      "No entry found in Harvard dataverse.\n"
     ]
    },
    {
     "name": "stdin",
     "output_type": "stream",
     "text": [
      "Create new folder with name `testing`?:  yes\n"
     ]
    },
    {
     "name": "stdout",
     "output_type": "stream",
     "text": [
      "loading variable testing/_attributes from disk\n",
      "loading variable testing/groups from disk\n"
     ]
    }
   ],
   "source": [
    "# this is where you create the dataset...\n",
    "# perhaps need a better interface here?\n",
    "dta = Dataset('testing')"
   ]
  },
  {
   "cell_type": "code",
   "execution_count": 84,
   "id": "49e6c91c",
   "metadata": {},
   "outputs": [],
   "source": [
    "c = counter('testing')"
   ]
  },
  {
   "cell_type": "code",
   "execution_count": null,
   "id": "bbe1f038",
   "metadata": {},
   "outputs": [
    {
     "name": "stdout",
     "output_type": "stream",
     "text": [
      "Citation link 10,000,000. Collected 7,883 citations.\n",
      "Citation link 20,000,000. Collected 15,442 citations.\n",
      "Citation link 30,000,000. Collected 23,660 citations.\n",
      "Citation link 40,000,000. Collected 31,266 citations.\n",
      "Citation link 50,000,000. Collected 39,184 citations.\n",
      "Citation link 60,000,000. Collected 55,168 citations.\n",
      "Citation link 70,000,000. Collected 74,516 citations.\n",
      "Citation link 80,000,000. Collected 87,360 citations.\n",
      "Citation link 90,000,000. Collected 91,618 citations.\n",
      "Citation link 100,000,000. Collected 106,147 citations.\n",
      "Citation link 110,000,000. Collected 125,987 citations.\n",
      "Citation link 120,000,000. Collected 146,350 citations.\n",
      "Citation link 130,000,000. Collected 167,253 citations.\n",
      "Citation link 140,000,000. Collected 186,432 citations.\n",
      "Citation link 150,000,000. Collected 206,465 citations.\n",
      "Citation link 160,000,000. Collected 226,198 citations.\n",
      "Citation link 170,000,000. Collected 246,520 citations.\n",
      "Citation link 180,000,000. Collected 266,384 citations.\n",
      "Citation link 190,000,000. Collected 285,897 citations.\n",
      "Citation link 200,000,000. Collected 309,971 citations.\n",
      "Citation link 210,000,000. Collected 334,249 citations.\n",
      "Citation link 220,000,000. Collected 358,856 citations.\n",
      "Citation link 230,000,000. Collected 385,498 citations.\n",
      "Citation link 240,000,000. Collected 412,111 citations.\n",
      "Citation link 250,000,000. Collected 443,919 citations.\n",
      "Citation link 260,000,000. Collected 477,172 citations.\n",
      "Citation link 270,000,000. Collected 510,516 citations.\n",
      "Citation link 280,000,000. Collected 543,331 citations.\n",
      "Citation link 290,000,000. Collected 574,912 citations.\n",
      "Citation link 300,000,000. Collected 606,608 citations.\n",
      "Citation link 310,000,000. Collected 638,900 citations.\n",
      "Citation link 320,000,000. Collected 670,186 citations.\n",
      "Citation link 330,000,000. Collected 703,866 citations.\n",
      "Citation link 340,000,000. Collected 735,918 citations.\n",
      "Citation link 350,000,000. Collected 767,547 citations.\n",
      "Citation link 360,000,000. Collected 799,349 citations.\n",
      "Citation link 370,000,000. Collected 831,938 citations.\n",
      "Citation link 380,000,000. Collected 863,982 citations.\n",
      "Citation link 390,000,000. Collected 896,713 citations.\n",
      "Citation link 400,000,000. Collected 929,047 citations.\n",
      "Citation link 410,000,000. Collected 961,978 citations.\n",
      "Citation link 420,000,000. Collected 995,093 citations.\n",
      "Citation link 430,000,000. Collected 1,028,376 citations.\n",
      "Citation link 440,000,000. Collected 1,060,417 citations.\n",
      "Citation link 450,000,000. Collected 1,092,850 citations.\n",
      "Citation link 460,000,000. Collected 1,125,792 citations.\n",
      "Citation link 470,000,000. Collected 1,158,624 citations.\n",
      "Citation link 480,000,000. Collected 1,192,110 citations.\n",
      "Citation link 490,000,000. Collected 1,225,012 citations.\n",
      "Citation link 500,000,000. Collected 1,257,936 citations.\n",
      "Citation link 510,000,000. Collected 1,291,053 citations.\n",
      "Citation link 520,000,000. Collected 1,322,546 citations.\n",
      "Citation link 530,000,000. Collected 1,355,339 citations.\n",
      "Citation link 540,000,000. Collected 1,387,707 citations.\n",
      "Citation link 550,000,000. Collected 1,421,245 citations.\n",
      "Citation link 560,000,000. Collected 1,454,181 citations.\n",
      "Citation link 570,000,000. Collected 1,486,945 citations.\n",
      "Citation link 580,000,000. Collected 1,518,550 citations.\n",
      "Citation link 590,000,000. Collected 1,551,628 citations.\n",
      "Citation link 600,000,000. Collected 1,583,173 citations.\n",
      "Citation link 610,000,000. Collected 1,615,602 citations.\n",
      "Citation link 620,000,000. Collected 1,647,928 citations.\n",
      "Citation link 630,000,000. Collected 1,681,277 citations.\n",
      "Citation link 640,000,000. Collected 1,714,671 citations.\n",
      "Citation link 650,000,000. Collected 1,746,796 citations.\n",
      "Citation link 660,000,000. Collected 1,779,895 citations.\n",
      "Citation link 670,000,000. Collected 1,811,534 citations.\n",
      "Citation link 680,000,000. Collected 1,844,223 citations.\n",
      "Citation link 690,000,000. Collected 1,878,246 citations.\n"
     ]
    }
   ],
   "source": [
    "with Path(home, 'datasets/s4/MAG/PaperReferences.txt').open() as inf:\n",
    "    for i,l in enumerate(inf):\n",
    "        if (i+1)%1e7 == 0:\n",
    "            print(f\"Citation link {i+1:,}. Collected {sum(c.ind['fy'].values()):,} citations.\")\n",
    "        \n",
    "        l = l[:-1] # strip the trailing \\n from the line\n",
    "        l = l.split('\\t') # tab delimited\n",
    "        l = list(map(int,l)) # map to integers. saving on memory this way hopefully\n",
    "        #print(l)\n",
    "        \n",
    "        citing, cited = l[0], l[1]\n",
    "        if citing not in socpapers_filt or cited not in socpapers_filt: # interesting question, should I consider only citations to other soc papers?\n",
    "            continue\n",
    "            \n",
    "        fy = infos[ citing ][1]\n",
    "        ty = infos[ cited ][1]\n",
    "        fj = infos[ citing ][2]\n",
    "        tj = infos[ citing ][2]\n",
    "\n",
    "        #c.cnt(doc.journal, 'fj', citing)\n",
    "        c.cnt(fy, 'fy', citing)\n",
    "        c.cnt(ty, 'ty', citing)\n",
    "        c.cnt((cited, fy), 'c.fy', citing)\n",
    "        c.cnt((cited, fj), 'c.fj', citing)\n",
    "\n",
    "        c.cnt((fj, fy), 'fj.fy', citing)\n",
    "\n",
    "        c.cnt(cited, 'c', citing)\n",
    "\n",
    "        c.cnt((fy, ty), 'fy.ty', citing)\n",
    "        c.cnt((fj, ty), 'fj.ty', citing)\n",
    "\n",
    "        for a in authors[cited]:\n",
    "            c.cnt(a, 'ta', citing)\n",
    "            c.cnt((fy, a), 'fy.ta', citing)\n",
    "            c.cnt((fj, a), 'fj.ta', citing)\n",
    "\n",
    "        #c.cnt((cited, doc.journal, fy), 'c.fj.fy', citing)\n",
    "\n",
    "        # first author!\n",
    "        if False:\n",
    "            ffa = fauthors[citing]\n",
    "            c.cnt(ffa, 'ffa', citing)\n",
    "            c.cnt((ffa, fy), 'ffa.fy', citing)\n",
    "            c.cnt((ffa, doc.journal), 'ffa.fj', citing)\n",
    "            c.cnt((cited, ffa), 'c.ffa', citing)\n",
    "            # c.cnt((ffa,r['SO'], int(r['PY'])), 'ffa.fj.fy', citing)\n",
    "\n",
    "        for a in authors[citing]:\n",
    "            c.cnt(a, 'fa', citing)\n",
    "            c.cnt((a, fy), 'fa.fy', citing)\n",
    "            # c.cnt((a, doc.journal), 'fa.fj', citing)\n",
    "            # c.cnt((a,r['SO'], int(r['PY'])), 'fa.fj.fy', citing)\n",
    "\n",
    "            c.cnt((cited, a), 'c.fa', citing)"
   ]
  },
  {
   "cell_type": "markdown",
   "id": "998676cb",
   "metadata": {},
   "source": [
    "# now do some counting for ages..."
   ]
  },
  {
   "cell_type": "code",
   "execution_count": null,
   "id": "95ce9ff7",
   "metadata": {},
   "outputs": [],
   "source": [
    "cbirthdays = defaultdict(lambda: 2050)\n",
    "for (c, y), count in c.doc['c.fy'].items():\n",
    "    if count == 0:\n",
    "        continue\n",
    "    cbirthdays[c] = min(cbirthdays[c], y)\n",
    "\n",
    "ffabirthdays = defaultdict(lambda: 2050)\n",
    "for (c, y), count in c.doc['ffa.fy'].items():\n",
    "    if count == 0:\n",
    "        continue\n",
    "    ffabirthdays[c] = min(ffabirthdays[c], y)\n",
    "\n",
    "tabirthdays = defaultdict(lambda: 2050)\n",
    "for (y, c), count in c.doc['fy.ta'].items():\n",
    "    if count == 0:\n",
    "        continue\n",
    "    tabirthdays[c] = min(tabirthdays[c], y)"
   ]
  },
  {
   "cell_type": "code",
   "execution_count": null,
   "id": "f9a011d0",
   "metadata": {},
   "outputs": [],
   "source": [
    "with open('datasets/s4/MAG/PaperReferences.txt') as inf:\n",
    "    \n",
    "    for i,l in enumerate(inf):\n",
    "        if (i+1)%1e7 == 0:\n",
    "            print(f'Citation link {i+1:,}. Collected {len(clinks):,}.')\n",
    "        \n",
    "        l = l[:-1] # strip the trailing \\n from the line\n",
    "        l = l.split('\\t') # tab delimited\n",
    "        l = list(map(int,l)) # map to integers. saving on memory this way hopefully\n",
    "        \n",
    "        citing, cited = l[0], l[1]\n",
    "        if citing not in socpapers_filt or cited not in socpapers_filt: # interesting question, should I consider only citations to other soc papers?\n",
    "            continue\n",
    "        \n",
    "        #ffa = fauthors[citing]\n",
    "        #fta = fauthors[cited]\n",
    "        \n",
    "        fas = authors[citing]\n",
    "        tas = authors[cited]\n",
    "\n",
    "        # skips the hitherto uncounted\n",
    "        #if cited not in c.doc['c'] or c.doc['c'][cited] == 0:\n",
    "        #    continue\n",
    "        #if ffa not in c.doc['ffa'] or c.doc['ffa'][ffa] == 0:\n",
    "        #    continue\n",
    "        #if fta not in c.doc['ta'] or c.doc['ta'][fta] == 0:\n",
    "        #    continue\n",
    "\n",
    "        cage1 = fy - cbirthdays[cited]\n",
    "        \n",
    "        #ffaage1 = fy - ffabirthdays[ffa]\n",
    "        #ftaage1 = fy - tabirthdays[fta]\n",
    "\n",
    "        #if not all(x >= 0 for x in [cage1, ffaage1, taage1]):\n",
    "        #    print(cage1, ffaage1, taage1)\n",
    "        #    raise\n",
    "\n",
    "        #c.cnt((cage1, doc.journal), 'cAge.fj', citing)\n",
    "\n",
    "        c.cnt((cage1, doc.citing_authors[0]), 'cAge.ffa', citing)\n",
    "        for author in fas:\n",
    "            faage1 = fy - ffabirthdays[author]\n",
    "            c.cnt((cage1, author), 'cAge.fa', citing)\n",
    "            c.cnt(faage1, 'faAge', citing)\n",
    "\n",
    "            c.cnt((faage1, ref.author), 'faAge.ta', citing)\n",
    "            c.cnt((faage1, fy, ref.author), 'faAge.fy.ta', citing)\n",
    "            c.cnt((cage1, faage1), 'cAge.faAge', citing)\n",
    "\n",
    "            c.cnt((faage1, fy), 'faAge.fy', citing)\n",
    "            \n",
    "            for ta in tas:\n",
    "                taage1 = fy - ffabirthdays[ta]\n",
    "                c.cnt((faage1, taage1), 'faAge.taAge', citing)\n",
    "\n",
    "        if False:\n",
    "            c.cnt(ffaage1, 'ffaAge', citing)\n",
    "\n",
    "            c.cnt((ffaage1, ref.author), 'ffaAge.ta', citing)\n",
    "            c.cnt((ffaage1, fy, ref.author), 'ffaAge.fy.ta', citing)\n",
    "            c.cnt((ffaage1, taage1), 'ffaAge.taAge', citing)\n",
    "            c.cnt((cage1, ffaage1), 'cAge.ffaAge', citing)\n",
    "            c.cnt((ffaage1, fy), 'ffaAge.fy', citing)\n",
    "\n",
    "        c.cnt((cage1, fy), 'cAge.fy', citing)\n",
    "        \n",
    "        for author in tas:\n",
    "            taage1 = fy - ffabirthdays[author]\n",
    "            c.cnt((fy, taage1), 'fy.taAge', citing)"
   ]
  },
  {
   "cell_type": "markdown",
   "id": "b1c66adf",
   "metadata": {},
   "source": [
    "# and finally, save the thing"
   ]
  },
  {
   "cell_type": "code",
   "execution_count": null,
   "id": "5457db55",
   "metadata": {},
   "outputs": [],
   "source": [
    "from knowknow.dataverse import upload\n",
    "upload(\n",
    "    api_key = env.GLOBS['dataverse_api_key'],\n",
    "    dataset_name = 'sociology-mag-internal-1',\n",
    "    dataset_description = \"\"\"All the sociology -> sociology journal citations from MAG, from all journals. Includes citing and cited age distributions.\"\"\",\n",
    "    dataverse_name = 'kk-citation-counts',\n",
    "    dataverse_server = 'https://dataverse.harvard.edu'\n",
    ")"
   ]
  }
 ],
 "metadata": {
  "kernelspec": {
   "display_name": "Python 3",
   "language": "python",
   "name": "python3"
  },
  "language_info": {
   "codemirror_mode": {
    "name": "ipython",
    "version": 3
   },
   "file_extension": ".py",
   "mimetype": "text/x-python",
   "name": "python",
   "nbconvert_exporter": "python",
   "pygments_lexer": "ipython3",
   "version": "3.8.8"
  }
 },
 "nbformat": 4,
 "nbformat_minor": 5
}
